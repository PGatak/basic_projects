{
 "cells": [
  {
   "cell_type": "code",
   "execution_count": 1,
   "metadata": {},
   "outputs": [],
   "source": [
    "import pandas as pd\n",
    "from sklearn import tree\n",
    "from sklearn.neighbors import KNeighborsClassifier\n",
    "from sklearn.ensemble import RandomForestClassifier\n",
    "from sklearn.linear_model import LogisticRegression\n",
    "from sklearn.svm import SVC\n",
    "from sklearn.model_selection import train_test_split\n",
    "import numpy as np\n",
    "from sklearn.metrics import accuracy_score\n",
    "import matplotlib.pyplot as plt"
   ]
  },
  {
   "cell_type": "code",
   "execution_count": 2,
   "metadata": {},
   "outputs": [],
   "source": [
    "df = pd.read_csv('data/heart.csv', usecols=['sex', 'cp', 'restecg000', 'exang', 'slope', 'thal', 'target000'])\n",
    "#df = df.dropna()"
   ]
  },
  {
   "cell_type": "code",
   "execution_count": 3,
   "metadata": {},
   "outputs": [
    {
     "data": {
      "text/html": [
       "<div>\n",
       "<style scoped>\n",
       "    .dataframe tbody tr th:only-of-type {\n",
       "        vertical-align: middle;\n",
       "    }\n",
       "\n",
       "    .dataframe tbody tr th {\n",
       "        vertical-align: top;\n",
       "    }\n",
       "\n",
       "    .dataframe thead th {\n",
       "        text-align: right;\n",
       "    }\n",
       "</style>\n",
       "<table border=\"1\" class=\"dataframe\">\n",
       "  <thead>\n",
       "    <tr style=\"text-align: right;\">\n",
       "      <th></th>\n",
       "      <th>sex</th>\n",
       "      <th>cp</th>\n",
       "      <th>restecg000</th>\n",
       "      <th>exang</th>\n",
       "      <th>slope</th>\n",
       "      <th>thal</th>\n",
       "      <th>target000</th>\n",
       "    </tr>\n",
       "  </thead>\n",
       "  <tbody>\n",
       "    <tr>\n",
       "      <td>0</td>\n",
       "      <td>1</td>\n",
       "      <td>3</td>\n",
       "      <td>0</td>\n",
       "      <td>0</td>\n",
       "      <td>0</td>\n",
       "      <td>1</td>\n",
       "      <td>1</td>\n",
       "    </tr>\n",
       "    <tr>\n",
       "      <td>1</td>\n",
       "      <td>1</td>\n",
       "      <td>2</td>\n",
       "      <td>1</td>\n",
       "      <td>0</td>\n",
       "      <td>0</td>\n",
       "      <td>2</td>\n",
       "      <td>1</td>\n",
       "    </tr>\n",
       "    <tr>\n",
       "      <td>2</td>\n",
       "      <td>0</td>\n",
       "      <td>1</td>\n",
       "      <td>0</td>\n",
       "      <td>0</td>\n",
       "      <td>2</td>\n",
       "      <td>2</td>\n",
       "      <td>1</td>\n",
       "    </tr>\n",
       "    <tr>\n",
       "      <td>3</td>\n",
       "      <td>1</td>\n",
       "      <td>1</td>\n",
       "      <td>1</td>\n",
       "      <td>0</td>\n",
       "      <td>2</td>\n",
       "      <td>2</td>\n",
       "      <td>1</td>\n",
       "    </tr>\n",
       "    <tr>\n",
       "      <td>4</td>\n",
       "      <td>0</td>\n",
       "      <td>0</td>\n",
       "      <td>1</td>\n",
       "      <td>1</td>\n",
       "      <td>2</td>\n",
       "      <td>2</td>\n",
       "      <td>1</td>\n",
       "    </tr>\n",
       "  </tbody>\n",
       "</table>\n",
       "</div>"
      ],
      "text/plain": [
       "   sex  cp  restecg000  exang  slope  thal  target000\n",
       "0    1   3           0      0      0     1          1\n",
       "1    1   2           1      0      0     2          1\n",
       "2    0   1           0      0      2     2          1\n",
       "3    1   1           1      0      2     2          1\n",
       "4    0   0           1      1      2     2          1"
      ]
     },
     "execution_count": 3,
     "metadata": {},
     "output_type": "execute_result"
    }
   ],
   "source": [
    "df.head()"
   ]
  },
  {
   "cell_type": "code",
   "execution_count": 4,
   "metadata": {},
   "outputs": [
    {
     "name": "stdout",
     "output_type": "stream",
     "text": [
      "<class 'pandas.core.frame.DataFrame'>\n",
      "RangeIndex: 303 entries, 0 to 302\n",
      "Data columns (total 7 columns):\n",
      "sex           303 non-null int64\n",
      "cp            303 non-null int64\n",
      "restecg000    303 non-null int64\n",
      "exang         303 non-null int64\n",
      "slope         303 non-null int64\n",
      "thal          303 non-null int64\n",
      "target000     303 non-null int64\n",
      "dtypes: int64(7)\n",
      "memory usage: 16.7 KB\n"
     ]
    }
   ],
   "source": [
    "df.info()"
   ]
  },
  {
   "cell_type": "code",
   "execution_count": 5,
   "metadata": {},
   "outputs": [
    {
     "data": {
      "text/html": [
       "<div>\n",
       "<style scoped>\n",
       "    .dataframe tbody tr th:only-of-type {\n",
       "        vertical-align: middle;\n",
       "    }\n",
       "\n",
       "    .dataframe tbody tr th {\n",
       "        vertical-align: top;\n",
       "    }\n",
       "\n",
       "    .dataframe thead th {\n",
       "        text-align: right;\n",
       "    }\n",
       "</style>\n",
       "<table border=\"1\" class=\"dataframe\">\n",
       "  <thead>\n",
       "    <tr style=\"text-align: right;\">\n",
       "      <th></th>\n",
       "      <th>sex</th>\n",
       "      <th>cp</th>\n",
       "      <th>restecg000</th>\n",
       "      <th>exang</th>\n",
       "      <th>slope</th>\n",
       "      <th>thal</th>\n",
       "      <th>target000</th>\n",
       "    </tr>\n",
       "  </thead>\n",
       "  <tbody>\n",
       "    <tr>\n",
       "      <td>count</td>\n",
       "      <td>303.000000</td>\n",
       "      <td>303.000000</td>\n",
       "      <td>303.000000</td>\n",
       "      <td>303.000000</td>\n",
       "      <td>303.000000</td>\n",
       "      <td>303.000000</td>\n",
       "      <td>303.000000</td>\n",
       "    </tr>\n",
       "    <tr>\n",
       "      <td>mean</td>\n",
       "      <td>0.683168</td>\n",
       "      <td>0.966997</td>\n",
       "      <td>0.528053</td>\n",
       "      <td>0.326733</td>\n",
       "      <td>1.399340</td>\n",
       "      <td>2.313531</td>\n",
       "      <td>0.544554</td>\n",
       "    </tr>\n",
       "    <tr>\n",
       "      <td>std</td>\n",
       "      <td>0.466011</td>\n",
       "      <td>1.032052</td>\n",
       "      <td>0.525860</td>\n",
       "      <td>0.469794</td>\n",
       "      <td>0.616226</td>\n",
       "      <td>0.612277</td>\n",
       "      <td>0.498835</td>\n",
       "    </tr>\n",
       "    <tr>\n",
       "      <td>min</td>\n",
       "      <td>0.000000</td>\n",
       "      <td>0.000000</td>\n",
       "      <td>0.000000</td>\n",
       "      <td>0.000000</td>\n",
       "      <td>0.000000</td>\n",
       "      <td>0.000000</td>\n",
       "      <td>0.000000</td>\n",
       "    </tr>\n",
       "    <tr>\n",
       "      <td>25%</td>\n",
       "      <td>0.000000</td>\n",
       "      <td>0.000000</td>\n",
       "      <td>0.000000</td>\n",
       "      <td>0.000000</td>\n",
       "      <td>1.000000</td>\n",
       "      <td>2.000000</td>\n",
       "      <td>0.000000</td>\n",
       "    </tr>\n",
       "    <tr>\n",
       "      <td>50%</td>\n",
       "      <td>1.000000</td>\n",
       "      <td>1.000000</td>\n",
       "      <td>1.000000</td>\n",
       "      <td>0.000000</td>\n",
       "      <td>1.000000</td>\n",
       "      <td>2.000000</td>\n",
       "      <td>1.000000</td>\n",
       "    </tr>\n",
       "    <tr>\n",
       "      <td>75%</td>\n",
       "      <td>1.000000</td>\n",
       "      <td>2.000000</td>\n",
       "      <td>1.000000</td>\n",
       "      <td>1.000000</td>\n",
       "      <td>2.000000</td>\n",
       "      <td>3.000000</td>\n",
       "      <td>1.000000</td>\n",
       "    </tr>\n",
       "    <tr>\n",
       "      <td>max</td>\n",
       "      <td>1.000000</td>\n",
       "      <td>3.000000</td>\n",
       "      <td>2.000000</td>\n",
       "      <td>1.000000</td>\n",
       "      <td>2.000000</td>\n",
       "      <td>3.000000</td>\n",
       "      <td>1.000000</td>\n",
       "    </tr>\n",
       "  </tbody>\n",
       "</table>\n",
       "</div>"
      ],
      "text/plain": [
       "              sex          cp  restecg000       exang       slope        thal  \\\n",
       "count  303.000000  303.000000  303.000000  303.000000  303.000000  303.000000   \n",
       "mean     0.683168    0.966997    0.528053    0.326733    1.399340    2.313531   \n",
       "std      0.466011    1.032052    0.525860    0.469794    0.616226    0.612277   \n",
       "min      0.000000    0.000000    0.000000    0.000000    0.000000    0.000000   \n",
       "25%      0.000000    0.000000    0.000000    0.000000    1.000000    2.000000   \n",
       "50%      1.000000    1.000000    1.000000    0.000000    1.000000    2.000000   \n",
       "75%      1.000000    2.000000    1.000000    1.000000    2.000000    3.000000   \n",
       "max      1.000000    3.000000    2.000000    1.000000    2.000000    3.000000   \n",
       "\n",
       "        target000  \n",
       "count  303.000000  \n",
       "mean     0.544554  \n",
       "std      0.498835  \n",
       "min      0.000000  \n",
       "25%      0.000000  \n",
       "50%      1.000000  \n",
       "75%      1.000000  \n",
       "max      1.000000  "
      ]
     },
     "execution_count": 5,
     "metadata": {},
     "output_type": "execute_result"
    }
   ],
   "source": [
    "df.describe()"
   ]
  },
  {
   "cell_type": "code",
   "execution_count": 6,
   "metadata": {},
   "outputs": [
    {
     "data": {
      "image/png": "[encoded data removed]",
      "text/plain": [
       "<Figure size 1440x1080 with 9 Axes>"
      ]
     },
     "metadata": {
      "needs_background": "light"
     },
     "output_type": "display_data"
    }
   ],
   "source": [
    "df.hist(bins=50, figsize=(20, 15))\n",
    "plt.show()"
   ]
  },
  {
   "cell_type": "code",
   "execution_count": 7,
   "metadata": {},
   "outputs": [
    {
     "name": "stdout",
     "output_type": "stream",
     "text": [
      "Uczące 242 , testowe 61\n"
     ]
    }
   ],
   "source": [
    "train_set, test_set = train_test_split(df, test_size=0.2, random_state=42)\n",
    "print(\"Uczące\", len(train_set), \", testowe\", len(test_set))"
   ]
  },
  {
   "cell_type": "code",
   "execution_count": 8,
   "metadata": {},
   "outputs": [
    {
     "name": "stderr",
     "output_type": "stream",
     "text": [
      "/home/adsum/.local/lib/python3.6/site-packages/pandas/core/frame.py:4102: SettingWithCopyWarning: \n",
      "A value is trying to be set on a copy of a slice from a DataFrame\n",
      "\n",
      "See the caveats in the documentation: http://pandas.pydata.org/pandas-docs/stable/user_guide/indexing.html#returning-a-view-versus-a-copy\n",
      "  errors=errors,\n"
     ]
    }
   ],
   "source": [
    "train_labels = train_set.target000\n",
    "train_set.drop(\"target000\", axis=1, inplace=True)\n",
    "test_labels = test_set.target000\n",
    "test_set.drop(\"target000\", axis=1, inplace=True)"
   ]
  },
  {
   "cell_type": "code",
   "execution_count": 9,
   "metadata": {},
   "outputs": [],
   "source": [
    "X = train_set\n",
    "Y = train_labels\n",
    "test_data = test_set"
   ]
  },
  {
   "cell_type": "code",
   "execution_count": 10,
   "metadata": {},
   "outputs": [
    {
     "name": "stdout",
     "output_type": "stream",
     "text": [
      "Drzewo decyzyjne 81.96721311475413 Decyzyjny las losowy 80.65573770491805 Regresja logistyczna 86.88524590163946 SVC 90.16393442622937 Najbliżsi sąsiedzi 77.0491803278688\n",
      "\n",
      "SVC jest najlepszym klasyfikatorem problemu.\n",
      "\n"
     ]
    }
   ],
   "source": [
    "\n",
    "dtc_tree_acc = 0\n",
    "rfc_acc = 0\n",
    "l_acc = 0\n",
    "s_acc = 0\n",
    "kNB_acc = 0\n",
    "\n",
    "for i in range(100):\n",
    "    \n",
    "    # Drzewa decyzyjne\n",
    "\n",
    "    dtc_clf = tree.DecisionTreeClassifier()\n",
    "    dtc_clf = dtc_clf.fit(X,Y)\n",
    "    dtc_prediction = dtc_clf.predict(test_data)\n",
    "    #print(dtc_prediction)\n",
    "\n",
    "    # Decyzyjny las losowy\n",
    "\n",
    "    rfc_clf = RandomForestClassifier(n_estimators = 100)\n",
    "    rfc_clf.fit(X,Y)\n",
    "    rfc_prediction = rfc_clf.predict(test_data)\n",
    "    #print(rfc_prediction)\n",
    "    \n",
    "    # Regresja logistyczna\n",
    "\n",
    "    l_clf = LogisticRegression(solver = 'lbfgs')\n",
    "    l_clf.fit(X,Y)\n",
    "    l_prediction = l_clf.predict(test_data)\n",
    "    #print(l_prediction)\n",
    "\n",
    "    # SVC\n",
    "\n",
    "    s_clf = SVC(gamma = 'scale')\n",
    "    s_clf.fit(X,Y)\n",
    "    s_prediction = s_clf.predict(test_data)\n",
    "    #print(s_prediction)\n",
    "\n",
    "    # k- najblizszych sasiadow\n",
    "\n",
    "    kNB_clf = KNeighborsClassifier()\n",
    "    kNB_clf.fit(X,Y)\n",
    "    kNB_prediction = kNB_clf.predict(test_data)\n",
    "    #print(kNB_prediction)\n",
    "\n",
    "    # Dokładnosc\n",
    "\n",
    "    dtc_tree_acc += accuracy_score(dtc_prediction,test_labels)\n",
    "    rfc_acc += accuracy_score(rfc_prediction,test_labels)\n",
    "    l_acc += accuracy_score(l_prediction,test_labels)\n",
    "    s_acc += accuracy_score(s_prediction,test_labels)\n",
    "    kNB_acc += accuracy_score(kNB_prediction,test_labels)\n",
    "\n",
    "print('Drzewo decyzyjne', dtc_tree_acc, 'Decyzyjny las losowy', rfc_acc, 'Regresja logistyczna', l_acc, 'SVC', s_acc,'Najbliżsi sąsiedzi', kNB_acc)\n",
    "\n",
    "klasyfikatory = ['Drzewo decyzyjne', 'Decyzyjny las losowy', 'Regresja logistyczna' , 'SVC','Najbliżsi sąsiedzi']\n",
    "dokładnosc = np.array([dtc_tree_acc, rfc_acc, l_acc, s_acc, kNB_acc])\n",
    "max_acc = np.argmax(dokładnosc)\n",
    "print('\\n' + klasyfikatory[max_acc] + ' jest najlepszym klasyfikatorem problemu.\\n')"
   ]
  },
  {
   "cell_type": "code",
   "execution_count": null,
   "metadata": {},
   "outputs": [],
   "source": []
  }
 ],
 "metadata": {
  "kernelspec": {
   "display_name": "Python 3",
   "language": "python",
   "name": "python3"
  },
  "language_info": {
   "codemirror_mode": {
    "name": "ipython",
    "version": 3
   },
   "file_extension": ".py",
   "mimetype": "text/x-python",
   "name": "python",
   "nbconvert_exporter": "python",
   "pygments_lexer": "ipython3",
   "version": "3.6.8"
  }
 },
 "nbformat": 4,
 "nbformat_minor": 2
}
