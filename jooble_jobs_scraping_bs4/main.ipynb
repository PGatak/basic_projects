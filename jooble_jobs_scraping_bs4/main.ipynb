{
 "cells": [
  {
   "cell_type": "code",
   "execution_count": 166,
   "metadata": {},
   "outputs": [],
   "source": [
    "%matplotlib inline\n",
    "import matplotlib.pyplot as plt\n",
    "import numpy as np\n",
    "import pandas as pd\n",
    "import seaborn as sns"
   ]
  },
  {
   "cell_type": "markdown",
   "metadata": {},
   "source": [
    "### Wszystkie dane pogrupowane i posortowane : company_name, time"
   ]
  },
  {
   "cell_type": "code",
   "execution_count": 167,
   "metadata": {},
   "outputs": [],
   "source": [
    "df = pd.read_csv('data/results.csv', usecols=['company_name', 'time', 'salary', 'title', 'link'], index_col=['company_name', 'time'], na_values=['EMPTY'])"
   ]
  },
  {
   "cell_type": "code",
   "execution_count": 168,
   "metadata": {},
   "outputs": [],
   "source": [
    "df = df.sort_values(['company_name', 'time'], inplace=False)"
   ]
  },
  {
   "cell_type": "code",
   "execution_count": 169,
   "metadata": {},
   "outputs": [],
   "source": [
    "df.to_csv('results.csv')"
   ]
  },
  {
   "cell_type": "code",
   "execution_count": 170,
   "metadata": {},
   "outputs": [],
   "source": [
    "df_sort = df.sort_values(['company_name', 'time'], inplace=False)"
   ]
  },
  {
   "cell_type": "code",
   "execution_count": 171,
   "metadata": {},
   "outputs": [],
   "source": [
    "df_sort.to_csv('results.csv')"
   ]
  },
  {
   "cell_type": "markdown",
   "metadata": {},
   "source": [
    "### Rankig firm : ilość wystawionych ofert"
   ]
  },
  {
   "cell_type": "code",
   "execution_count": 172,
   "metadata": {},
   "outputs": [],
   "source": [
    "df1 = pd.read_csv('data/results.csv', usecols=['company_name', 'time'], na_values=['BRAK_NAZWY'])"
   ]
  },
  {
   "cell_type": "code",
   "execution_count": 173,
   "metadata": {},
   "outputs": [],
   "source": [
    "df_company = df1['company_name'].value_counts()"
   ]
  },
  {
   "cell_type": "code",
   "execution_count": 174,
   "metadata": {},
   "outputs": [
    {
     "name": "stderr",
     "output_type": "stream",
     "text": [
      "/home/adsum/.local/lib/python3.6/site-packages/ipykernel_launcher.py:1: FutureWarning: The signature of `Series.to_csv` was aligned to that of `DataFrame.to_csv`, and argument 'header' will change its default value from False to True: please pass an explicit value to suppress this warning.\n",
      "  \"\"\"Entry point for launching an IPython kernel.\n"
     ]
    }
   ],
   "source": [
    "df_company.to_csv('total_amount.csv')"
   ]
  },
  {
   "cell_type": "markdown",
   "metadata": {},
   "source": [
    "### Ranking dni tygodnia : ilość wystawionych ofert przez wszystkie firmy"
   ]
  },
  {
   "cell_type": "code",
   "execution_count": 175,
   "metadata": {
    "scrolled": true
   },
   "outputs": [
    {
     "data": {
      "text/plain": [
       "144    81\n",
       "72     80\n",
       "96     77\n",
       "120    65\n",
       "168    51\n",
       "3      43\n",
       "24     23\n",
       "9      15\n",
       "48     13\n",
       "7       4\n",
       "2       4\n",
       "1       3\n",
       "21      3\n",
       "8       2\n",
       "18      2\n",
       "6       1\n",
       "15      1\n",
       "Name: time, dtype: int64"
      ]
     },
     "execution_count": 175,
     "metadata": {},
     "output_type": "execute_result"
    }
   ],
   "source": [
    "df1.time.value_counts()"
   ]
  },
  {
   "cell_type": "code",
   "execution_count": 176,
   "metadata": {},
   "outputs": [],
   "source": [
    "ilosc = [sum(df1.time < 24), sum(df1.time == 24), sum(df1.time == 48), sum(df1.time == 72), sum(df1.time == 96), sum(df1.time == 120), sum(df1.time == 144), sum(df1.time == 168)][::-1]"
   ]
  },
  {
   "cell_type": "code",
   "execution_count": 177,
   "metadata": {},
   "outputs": [
    {
     "data": {
      "text/plain": [
       "[51, 81, 65, 77, 80, 13, 23, 78]"
      ]
     },
     "execution_count": 177,
     "metadata": {},
     "output_type": "execute_result"
    }
   ],
   "source": [
    "ilosc"
   ]
  },
  {
   "cell_type": "code",
   "execution_count": 178,
   "metadata": {},
   "outputs": [
    {
     "data": {
      "text/plain": [
       "True"
      ]
     },
     "execution_count": 178,
     "metadata": {},
     "output_type": "execute_result"
    }
   ],
   "source": [
    "sum(df1.time.value_counts()) == sum(ilosc)"
   ]
  },
  {
   "cell_type": "code",
   "execution_count": 179,
   "metadata": {
    "scrolled": true
   },
   "outputs": [
    {
     "data": {
      "text/plain": [
       "144    0.173077\n",
       "72     0.170940\n",
       "96     0.164530\n",
       "120    0.138889\n",
       "168    0.108974\n",
       "3      0.091880\n",
       "24     0.049145\n",
       "9      0.032051\n",
       "48     0.027778\n",
       "7      0.008547\n",
       "2      0.008547\n",
       "1      0.006410\n",
       "21     0.006410\n",
       "8      0.004274\n",
       "18     0.004274\n",
       "6      0.002137\n",
       "15     0.002137\n",
       "Name: time, dtype: float64"
      ]
     },
     "execution_count": 179,
     "metadata": {},
     "output_type": "execute_result"
    }
   ],
   "source": [
    "df1.time.value_counts() / df1.time.count()"
   ]
  },
  {
   "cell_type": "code",
   "execution_count": 180,
   "metadata": {},
   "outputs": [],
   "source": [
    "procent = [sum(df1.time < 24) / df1.time.count(), sum(df1.time == 24) / df1.time.count(), sum(df1.time == 48) / df1.time.count(), sum(df1.time == 72) / df1.time.count(), sum(df1.time == 96) / df1.time.count(), sum(df1.time == 120) / df1.time.count(), sum(df1.time == 144) / df1.time.count(), sum(df1.time == 168) / df1.time.count()][::-1]"
   ]
  },
  {
   "cell_type": "code",
   "execution_count": 181,
   "metadata": {},
   "outputs": [
    {
     "data": {
      "text/plain": [
       "[0.10897435897435898,\n",
       " 0.17307692307692307,\n",
       " 0.1388888888888889,\n",
       " 0.16452991452991453,\n",
       " 0.17094017094017094,\n",
       " 0.027777777777777776,\n",
       " 0.049145299145299144,\n",
       " 0.16666666666666666]"
      ]
     },
     "execution_count": 181,
     "metadata": {},
     "output_type": "execute_result"
    }
   ],
   "source": [
    "procent"
   ]
  },
  {
   "cell_type": "code",
   "execution_count": 182,
   "metadata": {},
   "outputs": [
    {
     "data": {
      "text/plain": [
       "0.9999999999999999"
      ]
     },
     "execution_count": 182,
     "metadata": {},
     "output_type": "execute_result"
    }
   ],
   "source": [
    "sum(df1.time.value_counts() / df1.time.count())"
   ]
  },
  {
   "cell_type": "code",
   "execution_count": 183,
   "metadata": {},
   "outputs": [
    {
     "data": {
      "image/png": "[encoded data removed]",
      "text/plain": [
       "<Figure size 432x288 with 2 Axes>"
      ]
     },
     "metadata": {
      "needs_background": "light"
     },
     "output_type": "display_data"
    }
   ],
   "source": [
    "odp = [\"09.09\", \"10.09\", \"11.09\", \"12.09\", \"13.09\", \"14.09\", \"15.09\", \"16.09\"]\n",
    "fig = plt.figure()\n",
    "plt.subplot(1,2,1)\n",
    "plt.title(\"Łącznie ofert ilościowo\")\n",
    "x = np.arange(len(ilosc))\n",
    "s = 0.95\n",
    "plt.bar(x, ilosc, s, color = 'r')\n",
    "plt.xticks(x, odp, rotation = -90)\n",
    "plt.subplot(1,2,2)\n",
    "plt.title(\"Łącznie ofert procentowo\")\n",
    "plt.pie(procent, labels = odp, autopct='%1.1f%%', shadow=True, startangle=90)\n",
    "plt.axis(\"equal\")\n",
    "fig.savefig('orders_per_day.pdf')"
   ]
  },
  {
   "cell_type": "markdown",
   "metadata": {},
   "source": [
    "### Ranking dni tygodnia : ilość wystawionych ofert przez top3 firmy"
   ]
  },
  {
   "cell_type": "code",
   "execution_count": 184,
   "metadata": {},
   "outputs": [],
   "source": [
    "df_pona_care = df1[df1['company_name'] == \"PonaCare\"]\n",
    "\n",
    "ilosc_pona_care = [sum(df_pona_care.time < 24), sum(df_pona_care.time == 24), sum(df_pona_care.time == 48), sum(df_pona_care.time == 72), sum(df_pona_care.time == 96), sum(df_pona_care.time == 120), sum(df_pona_care.time == 144), sum(df_pona_care.time == 168)][::-1]"
   ]
  },
  {
   "cell_type": "code",
   "execution_count": 185,
   "metadata": {},
   "outputs": [],
   "source": [
    "df_amber_care_24 = df1[df1['company_name'] == \"Ambercare24\"]\n",
    "\n",
    "ilosc_amber_care_24 = [sum(df_amber_care_24.time < 24), sum(df_amber_care_24.time == 24), sum(df_amber_care_24.time == 48), sum(df_amber_care_24.time == 72), sum(df_amber_care_24.time == 96), sum(df_amber_care_24.time == 120), sum(df_amber_care_24.time == 144), sum(df_amber_care_24.time == 168)][::-1]"
   ]
  },
  {
   "cell_type": "code",
   "execution_count": 186,
   "metadata": {},
   "outputs": [],
   "source": [
    "df_empty = df1[df1['company_name'] == \"EMPTY\"]\n",
    "\n",
    "ilosc_empty = [sum(df_empty.time < 24), sum(df_empty.time == 24), sum(df_empty.time == 48), sum(df_empty.time == 72), sum(df_empty.time == 96), sum(df_empty.time == 120), sum(df_empty.time == 144), sum(df_empty.time == 168)][::-1]"
   ]
  },
  {
   "cell_type": "code",
   "execution_count": 187,
   "metadata": {},
   "outputs": [],
   "source": [
    "df_agatakaczmarek = df1[df1['company_name'] == \"agatakaczmarek\"]\n",
    "\n",
    "ilosc_agatakaczmarek = [sum(df_agatakaczmarek.time < 24), sum(df_agatakaczmarek.time == 24), sum(df_agatakaczmarek.time == 48), sum(df_agatakaczmarek.time == 72), sum(df_agatakaczmarek.time == 96), sum(df_agatakaczmarek.time == 120), sum(df_agatakaczmarek.time == 144), sum(df_agatakaczmarek.time == 168)][::-1]"
   ]
  },
  {
   "cell_type": "code",
   "execution_count": 188,
   "metadata": {},
   "outputs": [],
   "source": [
    "df_amber_care_24_zoo = df1[df1['company_name'] == \"Ambercare24 sp. z o.o. sp. komandytowa\"]\n",
    "\n",
    "ilosc_amber_care_24_zoo = [sum(df_amber_care_24_zoo.time < 24), sum(df_amber_care_24_zoo.time == 24), sum(df_amber_care_24_zoo.time == 48), sum(df_amber_care_24_zoo.time == 72), sum(df_amber_care_24_zoo.time == 96), sum(df_amber_care_24_zoo.time == 120), sum(df_amber_care_24_zoo.time == 144), sum(df_amber_care_24_zoo.time == 168)][::-1]"
   ]
  },
  {
   "cell_type": "code",
   "execution_count": null,
   "metadata": {},
   "outputs": [],
   "source": []
  },
  {
   "cell_type": "code",
   "execution_count": 189,
   "metadata": {},
   "outputs": [
    {
     "data": {
      "image/png": "[encoded data removed]",
      "text/plain": [
       "<Figure size 432x288 with 1 Axes>"
      ]
     },
     "metadata": {
      "needs_background": "light"
     },
     "output_type": "display_data"
    }
   ],
   "source": [
    "fig = plt.figure()\n",
    "plt.plot(odp, ilosc_pona_care, label = \"PonaCare\")\n",
    "plt.scatter(odp, ilosc_pona_care)\n",
    "plt.plot(odp, ilosc_amber_care_24, label = \"Ambercare24\")\n",
    "plt.scatter(odp, ilosc_amber_care_24)\n",
    "plt.plot(odp, ilosc_empty, label = \"bez nazwy\")\n",
    "plt.scatter(odp, ilosc_empty)\n",
    "plt.plot(odp, ilosc_agatakaczmarek, label = \"agatakaczmarek\")\n",
    "plt.scatter(odp, ilosc_agatakaczmarek)\n",
    "plt.plot(odp, ilosc_amber_care_24_zoo, label = \"Ambercare24 sp. z o.o.\")\n",
    "plt.scatter(odp, ilosc_amber_care_24_zoo)\n",
    "plt.legend()\n",
    "fig.savefig('orders_per_day_top5.pdf')"
   ]
  },
  {
   "cell_type": "code",
   "execution_count": null,
   "metadata": {},
   "outputs": [],
   "source": []
  }
 ],
 "metadata": {
  "kernelspec": {
   "display_name": "Python 3",
   "language": "python",
   "name": "python3"
  },
  "language_info": {
   "codemirror_mode": {
    "name": "ipython",
    "version": 3
   },
   "file_extension": ".py",
   "mimetype": "text/x-python",
   "name": "python",
   "nbconvert_exporter": "python",
   "pygments_lexer": "ipython3",
   "version": "3.6.8"
  }
 },
 "nbformat": 4,
 "nbformat_minor": 2
}
