{
 "cells": [
  {
   "cell_type": "code",
   "execution_count": 39,
   "metadata": {},
   "outputs": [],
   "source": [
    "%matplotlib inline\n",
    "import matplotlib.pyplot as plt\n",
    "import numpy as np\n",
    "import pandas as pd\n",
    "import seaborn as sns"
   ]
  },
  {
   "cell_type": "code",
   "execution_count": 40,
   "metadata": {},
   "outputs": [],
   "source": [
    "df = pd.read_csv('data/results.csv', usecols=['company_name', 'time', 'salary', 'title', 'link'], index_col=['company_name', 'time'], na_values=['EMPTY'])"
   ]
  },
  {
   "cell_type": "code",
   "execution_count": 41,
   "metadata": {},
   "outputs": [],
   "source": [
    "df = df.sort_values(['company_name', 'time'], inplace=False)"
   ]
  },
  {
   "cell_type": "code",
   "execution_count": 42,
   "metadata": {},
   "outputs": [],
   "source": [
    "df.to_csv('results.csv')"
   ]
  },
  {
   "cell_type": "code",
   "execution_count": 43,
   "metadata": {},
   "outputs": [],
   "source": [
    "df1 = pd.read_csv('data/results.csv', na_values=['EMPTY'])"
   ]
  },
  {
   "cell_type": "code",
   "execution_count": 44,
   "metadata": {
    "scrolled": true
   },
   "outputs": [
    {
     "data": {
      "text/html": [
       "<div>\n",
       "<style scoped>\n",
       "    .dataframe tbody tr th:only-of-type {\n",
       "        vertical-align: middle;\n",
       "    }\n",
       "\n",
       "    .dataframe tbody tr th {\n",
       "        vertical-align: top;\n",
       "    }\n",
       "\n",
       "    .dataframe thead th {\n",
       "        text-align: right;\n",
       "    }\n",
       "</style>\n",
       "<table border=\"1\" class=\"dataframe\">\n",
       "  <thead>\n",
       "    <tr style=\"text-align: right;\">\n",
       "      <th></th>\n",
       "      <th>id</th>\n",
       "      <th>time</th>\n",
       "      <th>company_name</th>\n",
       "      <th>salary</th>\n",
       "      <th>location</th>\n",
       "      <th>title</th>\n",
       "      <th>link</th>\n",
       "    </tr>\n",
       "  </thead>\n",
       "  <tbody>\n",
       "    <tr>\n",
       "      <td>0</td>\n",
       "      <td>442</td>\n",
       "      <td>72</td>\n",
       "      <td>Ambercare24</td>\n",
       "      <td>NaN</td>\n",
       "      <td>Niemcy</td>\n",
       "      <td>OPIEKUNKA DO PANA W ŚREDNIM WIEKU! WYJAZD OD 2...</td>\n",
       "      <td>https://pl.jooble.org/desc/4020778464239979433...</td>\n",
       "    </tr>\n",
       "    <tr>\n",
       "      <td>1</td>\n",
       "      <td>443</td>\n",
       "      <td>72</td>\n",
       "      <td>pracownik6</td>\n",
       "      <td>NaN</td>\n",
       "      <td>Niemcy</td>\n",
       "      <td>SUPER OFERTA! OPIEKUNKA DO MOBILNEGO SENIORA! ...</td>\n",
       "      <td>https://pl.jooble.org/desc/6641658086680284766...</td>\n",
       "    </tr>\n",
       "    <tr>\n",
       "      <td>2</td>\n",
       "      <td>444</td>\n",
       "      <td>72</td>\n",
       "      <td>Opieka Portus</td>\n",
       "      <td>1550 €</td>\n",
       "      <td>Niemcy</td>\n",
       "      <td>Opiekunka z komunikatywną znajomością języka n...</td>\n",
       "      <td>https://pl.jooble.org/desc/-710463964859341466...</td>\n",
       "    </tr>\n",
       "    <tr>\n",
       "      <td>3</td>\n",
       "      <td>445</td>\n",
       "      <td>48</td>\n",
       "      <td>Senihelp24</td>\n",
       "      <td>NaN</td>\n",
       "      <td>Niemcy</td>\n",
       "      <td>Wyrozumiała opiekunka z dobrym niemieckim</td>\n",
       "      <td>https://pl.jooble.org/desc/-689319377588630428...</td>\n",
       "    </tr>\n",
       "    <tr>\n",
       "      <td>4</td>\n",
       "      <td>446</td>\n",
       "      <td>48</td>\n",
       "      <td>Ambercare24</td>\n",
       "      <td>NaN</td>\n",
       "      <td>Niemcy</td>\n",
       "      <td>SUPER OFERTA! OPIEKUNKA DO MOBILNEGO SENIORA! ...</td>\n",
       "      <td>https://pl.jooble.org/desc/-495170756048159331...</td>\n",
       "    </tr>\n",
       "    <tr>\n",
       "      <td>...</td>\n",
       "      <td>...</td>\n",
       "      <td>...</td>\n",
       "      <td>...</td>\n",
       "      <td>...</td>\n",
       "      <td>...</td>\n",
       "      <td>...</td>\n",
       "      <td>...</td>\n",
       "    </tr>\n",
       "    <tr>\n",
       "      <td>426</td>\n",
       "      <td>154</td>\n",
       "      <td>120</td>\n",
       "      <td>APNDeiNL</td>\n",
       "      <td>NaN</td>\n",
       "      <td>Niemcy</td>\n",
       "      <td>APN - Opiekun/ka osób starszych Hemau / Niemcy</td>\n",
       "      <td>https://pl.jooble.org/desc/-470291251619226492...</td>\n",
       "    </tr>\n",
       "    <tr>\n",
       "      <td>427</td>\n",
       "      <td>155</td>\n",
       "      <td>144</td>\n",
       "      <td>omegacdk</td>\n",
       "      <td>NaN</td>\n",
       "      <td>Niemcy</td>\n",
       "      <td>Opieka od 17.09. okolice Lipska/1600EURO netto...</td>\n",
       "      <td>https://pl.jooble.org/desc/5299088147663384216...</td>\n",
       "    </tr>\n",
       "    <tr>\n",
       "      <td>428</td>\n",
       "      <td>156</td>\n",
       "      <td>120</td>\n",
       "      <td>APNDeiNL</td>\n",
       "      <td>NaN</td>\n",
       "      <td>Niemcy</td>\n",
       "      <td>APN - Opiekun/ka osób starszych Grunberg - Lar...</td>\n",
       "      <td>https://pl.jooble.org/desc/-753828613450483802...</td>\n",
       "    </tr>\n",
       "    <tr>\n",
       "      <td>429</td>\n",
       "      <td>159</td>\n",
       "      <td>144</td>\n",
       "      <td>ABC Work</td>\n",
       "      <td>NaN</td>\n",
       "      <td>Niemcy</td>\n",
       "      <td>Opiekun/ka osób starszych - dom opieki - Niemc...</td>\n",
       "      <td>https://pl.jooble.org/desc/6084610435952777072...</td>\n",
       "    </tr>\n",
       "    <tr>\n",
       "      <td>430</td>\n",
       "      <td>160</td>\n",
       "      <td>144</td>\n",
       "      <td>ABC Work</td>\n",
       "      <td>NaN</td>\n",
       "      <td>Niemcy</td>\n",
       "      <td>Personel pomocniczy (opieka nad osobami starsz...</td>\n",
       "      <td>https://pl.jooble.org/desc/-888649843117491016...</td>\n",
       "    </tr>\n",
       "  </tbody>\n",
       "</table>\n",
       "<p>431 rows × 7 columns</p>\n",
       "</div>"
      ],
      "text/plain": [
       "      id  time   company_name  salary location  \\\n",
       "0    442    72    Ambercare24     NaN   Niemcy   \n",
       "1    443    72     pracownik6     NaN   Niemcy   \n",
       "2    444    72  Opieka Portus  1550 €   Niemcy   \n",
       "3    445    48     Senihelp24     NaN   Niemcy   \n",
       "4    446    48    Ambercare24     NaN   Niemcy   \n",
       "..   ...   ...            ...     ...      ...   \n",
       "426  154   120       APNDeiNL     NaN   Niemcy   \n",
       "427  155   144       omegacdk     NaN   Niemcy   \n",
       "428  156   120       APNDeiNL     NaN   Niemcy   \n",
       "429  159   144       ABC Work     NaN   Niemcy   \n",
       "430  160   144       ABC Work     NaN   Niemcy   \n",
       "\n",
       "                                                 title  \\\n",
       "0    OPIEKUNKA DO PANA W ŚREDNIM WIEKU! WYJAZD OD 2...   \n",
       "1    SUPER OFERTA! OPIEKUNKA DO MOBILNEGO SENIORA! ...   \n",
       "2    Opiekunka z komunikatywną znajomością języka n...   \n",
       "3            Wyrozumiała opiekunka z dobrym niemieckim   \n",
       "4    SUPER OFERTA! OPIEKUNKA DO MOBILNEGO SENIORA! ...   \n",
       "..                                                 ...   \n",
       "426     APN - Opiekun/ka osób starszych Hemau / Niemcy   \n",
       "427  Opieka od 17.09. okolice Lipska/1600EURO netto...   \n",
       "428  APN - Opiekun/ka osób starszych Grunberg - Lar...   \n",
       "429  Opiekun/ka osób starszych - dom opieki - Niemc...   \n",
       "430  Personel pomocniczy (opieka nad osobami starsz...   \n",
       "\n",
       "                                                  link  \n",
       "0    https://pl.jooble.org/desc/4020778464239979433...  \n",
       "1    https://pl.jooble.org/desc/6641658086680284766...  \n",
       "2    https://pl.jooble.org/desc/-710463964859341466...  \n",
       "3    https://pl.jooble.org/desc/-689319377588630428...  \n",
       "4    https://pl.jooble.org/desc/-495170756048159331...  \n",
       "..                                                 ...  \n",
       "426  https://pl.jooble.org/desc/-470291251619226492...  \n",
       "427  https://pl.jooble.org/desc/5299088147663384216...  \n",
       "428  https://pl.jooble.org/desc/-753828613450483802...  \n",
       "429  https://pl.jooble.org/desc/6084610435952777072...  \n",
       "430  https://pl.jooble.org/desc/-888649843117491016...  \n",
       "\n",
       "[431 rows x 7 columns]"
      ]
     },
     "execution_count": 44,
     "metadata": {},
     "output_type": "execute_result"
    }
   ],
   "source": [
    "df1"
   ]
  },
  {
   "cell_type": "code",
   "execution_count": 45,
   "metadata": {
    "scrolled": true
   },
   "outputs": [
    {
     "data": {
      "text/plain": [
       "120    0.215777\n",
       "72     0.204176\n",
       "48     0.174014\n",
       "144    0.171694\n",
       "96     0.148492\n",
       "24     0.025522\n",
       "18     0.018561\n",
       "168    0.013921\n",
       "17     0.011601\n",
       "23     0.006961\n",
       "20     0.002320\n",
       "15     0.002320\n",
       "11     0.002320\n",
       "5      0.002320\n",
       "Name: time, dtype: float64"
      ]
     },
     "execution_count": 45,
     "metadata": {},
     "output_type": "execute_result"
    }
   ],
   "source": [
    "df1.time.value_counts() / df1.time.count()"
   ]
  },
  {
   "cell_type": "code",
   "execution_count": 46,
   "metadata": {},
   "outputs": [
    {
     "data": {
      "text/plain": [
       "0.04640371229698376"
      ]
     },
     "execution_count": 46,
     "metadata": {},
     "output_type": "execute_result"
    }
   ],
   "source": [
    "sum(df1.time < 24)/ df1.time.count()"
   ]
  },
  {
   "cell_type": "code",
   "execution_count": 47,
   "metadata": {},
   "outputs": [
    {
     "data": {
      "image/png": "[encoded data removed]",
      "text/plain": [
       "<Figure size 432x288 with 2 Axes>"
      ]
     },
     "metadata": {
      "needs_background": "light"
     },
     "output_type": "display_data"
    }
   ],
   "source": [
    "procenty = [0.046403, 0.025522, 0.174014, 0.204176, 0.148492, 0.215777, 0.171694, 0.013921]\n",
    "odp = [\"< 24\", \"24\", \"48\", \"72\", \"96\", \"120\", \"144\", \"168\"]\n",
    "fig = plt.figure()\n",
    "plt.subplot(1,2,1)\n",
    "x = np.arange(len(procenty))\n",
    "s = 0.7\n",
    "plt.bar(x,procenty,s)\n",
    "plt.xticks(x,odp, rotation = 0)\n",
    "plt.subplot(1,2,2)\n",
    "plt.pie(procenty,labels = odp)\n",
    "plt.axis(\"equal\")\n",
    "fig.savefig('orders_per_day')"
   ]
  },
  {
   "cell_type": "code",
   "execution_count": 48,
   "metadata": {},
   "outputs": [],
   "source": [
    "b = df1['company_name'].value_counts()"
   ]
  },
  {
   "cell_type": "code",
   "execution_count": 49,
   "metadata": {},
   "outputs": [
    {
     "name": "stderr",
     "output_type": "stream",
     "text": [
      "/home/adsum/.local/lib/python3.6/site-packages/ipykernel_launcher.py:1: FutureWarning: The signature of `Series.to_csv` was aligned to that of `DataFrame.to_csv`, and argument 'header' will change its default value from False to True: please pass an explicit value to suppress this warning.\n",
      "  \"\"\"Entry point for launching an IPython kernel.\n"
     ]
    }
   ],
   "source": [
    "b.to_csv('group_by_number.csv')"
   ]
  },
  {
   "cell_type": "code",
   "execution_count": null,
   "metadata": {},
   "outputs": [],
   "source": []
  }
 ],
 "metadata": {
  "kernelspec": {
   "display_name": "Python 3",
   "language": "python",
   "name": "python3"
  },
  "language_info": {
   "codemirror_mode": {
    "name": "ipython",
    "version": 3
   },
   "file_extension": ".py",
   "mimetype": "text/x-python",
   "name": "python",
   "nbconvert_exporter": "python",
   "pygments_lexer": "ipython3",
   "version": "3.6.8"
  }
 },
 "nbformat": 4,
 "nbformat_minor": 2
}
